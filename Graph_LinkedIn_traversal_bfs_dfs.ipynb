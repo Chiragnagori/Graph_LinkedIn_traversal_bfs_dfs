{
  "nbformat": 4,
  "nbformat_minor": 0,
  "metadata": {
    "colab": {
      "name": "Graph_LinkedIn_traversal_bfs_dfs.ipynb",
      "provenance": [],
      "collapsed_sections": [],
      "authorship_tag": "ABX9TyMjzzpoCIAkWkgm32YYzxgE",
      "include_colab_link": true
    },
    "kernelspec": {
      "name": "python3",
      "display_name": "Python 3"
    },
    "language_info": {
      "name": "python"
    }
  },
  "cells": [
    {
      "cell_type": "markdown",
      "metadata": {
        "id": "view-in-github",
        "colab_type": "text"
      },
      "source": [
        "<a href=\"https://colab.research.google.com/github/Chiragnagori/Graph_LinkedIn_traversal_bfs_dfs/blob/main/Graph_LinkedIn_traversal_bfs_dfs.ipynb\" target=\"_parent\"><img src=\"https://colab.research.google.com/assets/colab-badge.svg\" alt=\"Open In Colab\"/></a>"
      ]
    },
    {
      "cell_type": "code",
      "metadata": {
        "id": "1ejgOv4n2R-c"
      },
      "source": [
        "#keys:values\n",
        "#profile:connections\n",
        "mylinkedIn={\n",
        "    \"vimal\": [\"harry\",\"eric\",\"rahul\"],\n",
        "    \"harry\":[\"vimal\",\"eric\"],\n",
        "    \"eric\":[\"vimal\",\"eric\",\"raj\"],\n",
        "    \"tom\":[\"raj\",\"rahul\"],\n",
        "    \"raj\":[\"tom\",\"eric\"],\n",
        "    \"rahul\":[\"vimal\",\"tom\"]\n",
        "}"
      ],
      "execution_count": 1,
      "outputs": []
    },
    {
      "cell_type": "code",
      "metadata": {
        "colab": {
          "base_uri": "https://localhost:8080/"
        },
        "id": "a0EUYhOO3HNx",
        "outputId": "abc629a0-0f8b-4f91-e2ff-911214e45b98"
      },
      "source": [
        "type(mylinkedIn)"
      ],
      "execution_count": 2,
      "outputs": [
        {
          "output_type": "execute_result",
          "data": {
            "text/plain": [
              "dict"
            ]
          },
          "metadata": {
            "tags": []
          },
          "execution_count": 2
        }
      ]
    },
    {
      "cell_type": "code",
      "metadata": {
        "colab": {
          "base_uri": "https://localhost:8080/"
        },
        "id": "jym_vQ4W3Sjk",
        "outputId": "7bd255c6-36ab-4c11-f7f5-c952f7811803"
      },
      "source": [
        "mylinkedIn.keys()"
      ],
      "execution_count": 3,
      "outputs": [
        {
          "output_type": "execute_result",
          "data": {
            "text/plain": [
              "dict_keys(['vimal', 'harry', 'eric', 'tom', 'raj', 'rahul'])"
            ]
          },
          "metadata": {
            "tags": []
          },
          "execution_count": 3
        }
      ]
    },
    {
      "cell_type": "code",
      "metadata": {
        "colab": {
          "base_uri": "https://localhost:8080/"
        },
        "id": "x2ehyqjq3W0-",
        "outputId": "1d9389d4-40c4-4937-f9b2-4d75f5faf85e"
      },
      "source": [
        "len(mylinkedIn)"
      ],
      "execution_count": 4,
      "outputs": [
        {
          "output_type": "execute_result",
          "data": {
            "text/plain": [
              "6"
            ]
          },
          "metadata": {
            "tags": []
          },
          "execution_count": 4
        }
      ]
    },
    {
      "cell_type": "code",
      "metadata": {
        "colab": {
          "base_uri": "https://localhost:8080/"
        },
        "id": "Luabl7Ov3f9A",
        "outputId": "e6fd10d6-aef1-43bb-a331-3d47ed9be63c"
      },
      "source": [
        "len(mylinkedIn['vimal'])"
      ],
      "execution_count": 5,
      "outputs": [
        {
          "output_type": "execute_result",
          "data": {
            "text/plain": [
              "3"
            ]
          },
          "metadata": {
            "tags": []
          },
          "execution_count": 5
        }
      ]
    },
    {
      "cell_type": "code",
      "metadata": {
        "id": "iaqVA5GO3mlF"
      },
      "source": [
        "#new profile with no connection\n",
        "mylinkedIn[\"yash\"]=[]"
      ],
      "execution_count": 6,
      "outputs": []
    },
    {
      "cell_type": "code",
      "metadata": {
        "id": "BeIcsecy3xob"
      },
      "source": [
        "#connection added\n",
        "mylinkedIn[\"yash\"]=[\"tom\",\"raj\"]"
      ],
      "execution_count": 7,
      "outputs": []
    },
    {
      "cell_type": "code",
      "metadata": {
        "colab": {
          "base_uri": "https://localhost:8080/"
        },
        "id": "pKEW_fN74EbW",
        "outputId": "6d5b4e55-1d66-4085-c6d1-8a2b96da790f"
      },
      "source": [
        "mylinkedIn\n",
        "#vimal has 3 adjacent: vimal-->harry-->eric-->rahul"
      ],
      "execution_count": 8,
      "outputs": [
        {
          "output_type": "execute_result",
          "data": {
            "text/plain": [
              "{'eric': ['vimal', 'eric', 'raj'],\n",
              " 'harry': ['vimal', 'eric'],\n",
              " 'rahul': ['vimal', 'tom'],\n",
              " 'raj': ['tom', 'eric'],\n",
              " 'tom': ['raj', 'rahul'],\n",
              " 'vimal': ['harry', 'eric', 'rahul'],\n",
              " 'yash': ['tom', 'raj']}"
            ]
          },
          "metadata": {
            "tags": []
          },
          "execution_count": 8
        }
      ]
    },
    {
      "cell_type": "code",
      "metadata": {
        "id": "w9Seesmq4Gxc"
      },
      "source": [
        "class Graph:\n",
        "  #gdict is a graph made by us ::mylinkedIn\n",
        "  def __init__(self,gdict):\n",
        "    self.gdict=gdict\n",
        "\n",
        "  def addNode(self,newnode):\n",
        "    #mylinkedIn[\"yash\"]=[]:similar\n",
        "    self.gdict[newnode]=[]\n",
        "\n",
        "  def addConnections(self,node,connection):\n",
        "    #mylinkedIn[\"yash\"]=[\"tom\",\"raj\"]:similar  \n",
        "    self.gdict[node].append(connection)\n",
        "\n",
        "  def countConnection(self,node):\n",
        "    #len(mylinkedIn['vimal'])::similar\n",
        "    return len(self.gdict[node])\n",
        "\n",
        "  #Traverssal\n",
        "  def showNodes(self):\n",
        "    #mylinkedIn.keys():similar\n",
        "    return self.gdict.keys()\n",
        "\n",
        "\n",
        "\n",
        "#TRAVERSAL:breadth first search \n",
        "  def bfs(self,vertex):\n",
        "    #FIFO:vertex are strored in queue\n",
        "    queue=[vertex]\n",
        "    visited=[vertex]\n",
        "    while queue:\n",
        "      #dequeue first element from queue & put adjacent of that in queue\n",
        "      devertex=queue.pop(0)\n",
        "      #this is main print\n",
        "      print(devertex)\n",
        "      #here we take adjacent of dequeue vertex\n",
        "      for adjacentVertex in self.gdict[devertex]:\n",
        "        # if it is in visited that means its already dequeued\n",
        "        if adjacentVertex not in visited:\n",
        "          #enqueue:add into queue\n",
        "          queue.append(adjacentVertex)\n",
        "          #make it visited\n",
        "          visited.append(adjacentVertex)\n",
        "\n",
        "#same thing happens while queue is not empty\n",
        "#first it is added in queue and visited then loop start,\n",
        "#LOOP:: dequeue element and adjacent of it are added in queue\n",
        "\n",
        "\n",
        "#TRAVERSAL:depth first search \n",
        "  def dfs(self,vertex):\n",
        "    #LIFO:becoz we have to go in depth i.e last\n",
        "     stack=[vertex]\n",
        "     visited=[vertex]\n",
        "     while stack:\n",
        "      #remove from last\n",
        "      popvertex=stack.pop()\n",
        "      print(popvertex)\n",
        "      for adjacentVertex in self.gdict[popvertex]:\n",
        "        if adjacentVertex not in visited:\n",
        "          #push:add into queue\n",
        "          stack.append(adjacentVertex)\n",
        "          #make it visited\n",
        "          visited.append(adjacentVertex)"
      ],
      "execution_count": 9,
      "outputs": []
    },
    {
      "cell_type": "code",
      "metadata": {
        "id": "z1bhpk0Q49Hv"
      },
      "source": [
        "o1=Graph(mylinkedIn)"
      ],
      "execution_count": 10,
      "outputs": []
    },
    {
      "cell_type": "code",
      "metadata": {
        "colab": {
          "base_uri": "https://localhost:8080/"
        },
        "id": "xH3tsZq95B--",
        "outputId": "dc8e25fe-f72f-463f-fbde-c7e40f31c66d"
      },
      "source": [
        "o1.gdict"
      ],
      "execution_count": 11,
      "outputs": [
        {
          "output_type": "execute_result",
          "data": {
            "text/plain": [
              "{'eric': ['vimal', 'eric', 'raj'],\n",
              " 'harry': ['vimal', 'eric'],\n",
              " 'rahul': ['vimal', 'tom'],\n",
              " 'raj': ['tom', 'eric'],\n",
              " 'tom': ['raj', 'rahul'],\n",
              " 'vimal': ['harry', 'eric', 'rahul'],\n",
              " 'yash': ['tom', 'raj']}"
            ]
          },
          "metadata": {
            "tags": []
          },
          "execution_count": 11
        }
      ]
    },
    {
      "cell_type": "code",
      "metadata": {
        "id": "hQazPFsz5Kwd"
      },
      "source": [
        "o1.addNode(\"chirag\")"
      ],
      "execution_count": 12,
      "outputs": []
    },
    {
      "cell_type": "code",
      "metadata": {
        "id": "Tt1PU2Iq72co"
      },
      "source": [
        "o1.addConnections(\"chirag\",\"raj\")"
      ],
      "execution_count": 13,
      "outputs": []
    },
    {
      "cell_type": "code",
      "metadata": {
        "colab": {
          "base_uri": "https://localhost:8080/"
        },
        "id": "ux97Umuy8FTy",
        "outputId": "66b42899-2e58-4885-8516-6c3886b3af88"
      },
      "source": [
        "o1.showNodes()"
      ],
      "execution_count": 14,
      "outputs": [
        {
          "output_type": "execute_result",
          "data": {
            "text/plain": [
              "dict_keys(['vimal', 'harry', 'eric', 'tom', 'raj', 'rahul', 'yash', 'chirag'])"
            ]
          },
          "metadata": {
            "tags": []
          },
          "execution_count": 14
        }
      ]
    },
    {
      "cell_type": "code",
      "metadata": {
        "colab": {
          "base_uri": "https://localhost:8080/"
        },
        "id": "KCBAXlTc8WeL",
        "outputId": "7b2470b2-9c67-4d93-d2d2-8a8a341adc30"
      },
      "source": [
        "o1.countConnection(\"chirag\")"
      ],
      "execution_count": 15,
      "outputs": [
        {
          "output_type": "execute_result",
          "data": {
            "text/plain": [
              "1"
            ]
          },
          "metadata": {
            "tags": []
          },
          "execution_count": 15
        }
      ]
    },
    {
      "cell_type": "code",
      "metadata": {
        "colab": {
          "base_uri": "https://localhost:8080/"
        },
        "id": "B_N9wKWu8vbh",
        "outputId": "b47cfea3-013c-4432-c70d-b488878afc56"
      },
      "source": [
        "o1.gdict"
      ],
      "execution_count": 16,
      "outputs": [
        {
          "output_type": "execute_result",
          "data": {
            "text/plain": [
              "{'chirag': ['raj'],\n",
              " 'eric': ['vimal', 'eric', 'raj'],\n",
              " 'harry': ['vimal', 'eric'],\n",
              " 'rahul': ['vimal', 'tom'],\n",
              " 'raj': ['tom', 'eric'],\n",
              " 'tom': ['raj', 'rahul'],\n",
              " 'vimal': ['harry', 'eric', 'rahul'],\n",
              " 'yash': ['tom', 'raj']}"
            ]
          },
          "metadata": {
            "tags": []
          },
          "execution_count": 16
        }
      ]
    },
    {
      "cell_type": "code",
      "metadata": {
        "colab": {
          "base_uri": "https://localhost:8080/"
        },
        "id": "qtMzo0gw9T16",
        "outputId": "68ec28c6-c9c1-4222-9020-945073cf99e6"
      },
      "source": [
        "#bfs traversal\n",
        "o1.bfs(\"chirag\")"
      ],
      "execution_count": 17,
      "outputs": [
        {
          "output_type": "stream",
          "text": [
            "chirag\n",
            "raj\n",
            "tom\n",
            "eric\n",
            "rahul\n",
            "vimal\n",
            "harry\n"
          ],
          "name": "stdout"
        }
      ]
    },
    {
      "cell_type": "code",
      "metadata": {
        "colab": {
          "base_uri": "https://localhost:8080/"
        },
        "id": "3AFRg-wBCbx6",
        "outputId": "ba06ce4f-3247-4e4b-be19-a33a6e19d2da"
      },
      "source": [
        "o1.dfs(\"chirag\")"
      ],
      "execution_count": 18,
      "outputs": [
        {
          "output_type": "stream",
          "text": [
            "chirag\n",
            "raj\n",
            "eric\n",
            "vimal\n",
            "rahul\n",
            "harry\n",
            "tom\n"
          ],
          "name": "stdout"
        }
      ]
    },
    {
      "cell_type": "code",
      "metadata": {
        "id": "Yai33TeGEOVS",
        "colab": {
          "base_uri": "https://localhost:8080/"
        },
        "outputId": "99c583b7-4de0-42a3-f1c5-bae7be66a04e"
      },
      "source": [
        "o1.gdict"
      ],
      "execution_count": 19,
      "outputs": [
        {
          "output_type": "execute_result",
          "data": {
            "text/plain": [
              "{'chirag': ['raj'],\n",
              " 'eric': ['vimal', 'eric', 'raj'],\n",
              " 'harry': ['vimal', 'eric'],\n",
              " 'rahul': ['vimal', 'tom'],\n",
              " 'raj': ['tom', 'eric'],\n",
              " 'tom': ['raj', 'rahul'],\n",
              " 'vimal': ['harry', 'eric', 'rahul'],\n",
              " 'yash': ['tom', 'raj']}"
            ]
          },
          "metadata": {
            "tags": []
          },
          "execution_count": 19
        }
      ]
    },
    {
      "cell_type": "code",
      "metadata": {
        "id": "WGRsiAO2nJ57"
      },
      "source": [
        ""
      ],
      "execution_count": 19,
      "outputs": []
    }
  ]
}